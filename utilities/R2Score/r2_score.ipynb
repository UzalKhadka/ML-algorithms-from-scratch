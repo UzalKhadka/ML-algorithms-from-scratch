{
 "cells": [
  {
   "cell_type": "markdown",
   "metadata": {},
   "source": [
    "# R2 Score\n",
    "## Introduction\n",
    "R2 Score, also called Coefficient of determination, or the coefficient of multiple determination for multiple regression, is used to evaluate the performance of a regression model. It is a statistical measure of how close the data are to the fitted regression line. The value of R2 is the percentage of the response variable variation that is explained by a linear model. The higher the R2, the better the model fits the data. The \"ideal\" R2 Score is 1.0 which is not possible in the real world data, and it can be negative (because the model can be arbitrarily worse). A constant model that always predicts the expected value of y, disregarding the input features, would get a R2 score of 0.0."
   ]
  },
  {
   "cell_type": "code",
   "execution_count": 3,
   "metadata": {},
   "outputs": [],
   "source": [
    "# importing necessary libraries\n",
    "import numpy as np"
   ]
  },
  {
   "cell_type": "markdown",
   "metadata": {},
   "source": [
    "## Use Case\n",
    "We use R2 Score to evaluate the performance of a regression model. It is a statistical measure of how close the data are to the fitted regression line. The value of R2 is the percentage of the response variable variation that is explained by a linear model. The higher the R2, the better the model fits the data."
   ]
  },
  {
   "cell_type": "markdown",
   "metadata": {},
   "source": [
    "The r2_score function is the almost mirrored version of the r2_score function in Scikit Learn."
   ]
  },
  {
   "cell_type": "code",
   "execution_count": 30,
   "metadata": {},
   "outputs": [],
   "source": [
    "# R2 Score function\n",
    "def r2_score(y_true, y_pred):\n",
    "    y_true = np.array(y_true)\n",
    "    y_pred = np.array(y_pred)\n",
    "\n",
    "    # calculating the residuals and total sum of squares\n",
    "    SSres = np.sum((y_true - y_pred) ** 2)\n",
    "    SStot = np.sum((y_true - np.mean(y_true)) ** 2)\n",
    "\n",
    "    # applying the formula\n",
    "    r2_score = 1 - np.divide(\n",
    "        SSres, SStot, out=np.zeros_like(SSres, dtype=type(SStot)), where=SStot != 0\n",
    "    )  # using np.divide to avoid ZeroDivisionError\n",
    "\n",
    "    return r2_score"
   ]
  },
  {
   "cell_type": "markdown",
   "metadata": {},
   "source": [
    "## Testing\n",
    "The below tests are taken from the Scikit Learn documentation. Source: <https://scikit-learn.org/stable/modules/generated/sklearn.metrics.r2_score.html>"
   ]
  },
  {
   "cell_type": "code",
   "execution_count": 31,
   "metadata": {},
   "outputs": [
    {
     "name": "stdout",
     "output_type": "stream",
     "text": [
      "r2_score -> 0.9486081370449679\n"
     ]
    }
   ],
   "source": [
    "y_true = [3, -0.5, 2, 7]\n",
    "y_pred = [2.5, 0.0, 2, 8]\n",
    "\n",
    "print('r2_score ->', r2_score(y_true, y_pred))"
   ]
  },
  {
   "cell_type": "code",
   "execution_count": 32,
   "metadata": {},
   "outputs": [
    {
     "name": "stdout",
     "output_type": "stream",
     "text": [
      "r2_score -> 0.9512661251791686\n"
     ]
    }
   ],
   "source": [
    "y_true = [[0.5, 1],[-1, 1],[7, -6]]\n",
    "y_pred = [[0, 2],[-1, 2],[8, -5]]\n",
    "\n",
    "print('r2_score ->',r2_score(y_true, y_pred))"
   ]
  },
  {
   "cell_type": "code",
   "execution_count": 33,
   "metadata": {},
   "outputs": [
    {
     "name": "stdout",
     "output_type": "stream",
     "text": [
      "r2_score -> 1.0\n"
     ]
    }
   ],
   "source": [
    "y_true = [-2, -2, -2]\n",
    "y_pred = [-2, -2, -2]\n",
    "\n",
    "print('r2_score ->', r2_score(y_true, y_pred))"
   ]
  }
 ],
 "metadata": {
  "kernelspec": {
   "display_name": "Python 3.10.6 64-bit",
   "language": "python",
   "name": "python3"
  },
  "language_info": {
   "codemirror_mode": {
    "name": "ipython",
    "version": 3
   },
   "file_extension": ".py",
   "mimetype": "text/x-python",
   "name": "python",
   "nbconvert_exporter": "python",
   "pygments_lexer": "ipython3",
   "version": "3.10.6"
  },
  "orig_nbformat": 4,
  "vscode": {
   "interpreter": {
    "hash": "369f2c481f4da34e4445cda3fffd2e751bd1c4d706f27375911949ba6bb62e1c"
   }
  }
 },
 "nbformat": 4,
 "nbformat_minor": 2
}
