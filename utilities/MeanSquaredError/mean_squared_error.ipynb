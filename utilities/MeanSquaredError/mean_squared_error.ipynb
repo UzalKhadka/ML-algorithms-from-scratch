{
 "cells": [
  {
   "cell_type": "markdown",
   "metadata": {},
   "source": [
    "# Mean Squared Error\n",
    "## Introduction\n",
    "Mean Squared Error (MSE) is a loss function that is commonly used in regression problems. It is the average of the squared differences between the predicted values and the actual values. It tells us how close the regression line is as compared to the data points. The lower the MSE, the better the model. MSE is a loss function that is differentiable, which makes it easier to optimize. MSE is also scale-invariant, meaning that it does not change if the data is scaled. This is a property that is not shared by other loss functions such as MAE."
   ]
  },
  {
   "cell_type": "code",
   "execution_count": 11,
   "metadata": {},
   "outputs": [],
   "source": [
    "# importing necessary libraries\n",
    "import numpy as np"
   ]
  },
  {
   "cell_type": "markdown",
   "metadata": {},
   "source": [
    "## Use Case\n",
    "We use MSE when we want to predict a continuous value. We use regression algorithms to predict continuous value unlike classification algorithms for categorical values (But we use Logistic regression, an upgraded version of traditional regression, to classify categorical values). For example, we can use MSE to predict the price of a house based on its area, number of rooms, etc. We can also use MSE to predict the number of sales of a product based on factors such as price, advertising, etc."
   ]
  },
  {
   "cell_type": "markdown",
   "metadata": {},
   "source": [
    "The mean_squared_error function is the almost mirrored version of the mean_squared_error function in Scikit Learn."
   ]
  },
  {
   "cell_type": "code",
   "execution_count": 18,
   "metadata": {},
   "outputs": [],
   "source": [
    "# Mean Squared Error function\n",
    "def mean_squared_error(y_true, y_pred, squared=True):\n",
    "    y_true = np.array(y_true)\n",
    "    y_pred = np.array(y_pred)\n",
    "    \n",
    "    error = np.mean((y_true - y_pred)**2)\n",
    "    if squared: # if squared is True, return the Mean Squared Error (MSE)\n",
    "        return error\n",
    "    return np.sqrt(error) # if squared is False, return the Root Mean Squared Error (RMSE)"
   ]
  },
  {
   "cell_type": "markdown",
   "metadata": {},
   "source": [
    "## Testing\n",
    "The below tests are taken from the Scikit Learn documentation. Source: <https://scikit-learn.org/stable/modules/generated/sklearn.metrics.mean_squared_error.html>"
   ]
  },
  {
   "cell_type": "code",
   "execution_count": 16,
   "metadata": {},
   "outputs": [
    {
     "name": "stdout",
     "output_type": "stream",
     "text": [
      "MSE -> 0.375\n",
      "RMSE -> 0.6123724356957945\n"
     ]
    }
   ],
   "source": [
    "y_true = [3, -0.5, 2, 7]\n",
    "y_pred = [2.5, 0.0, 2, 8]\n",
    "\n",
    "print('MSE ->',mean_squared_error(y_true, y_pred))\n",
    "print('RMSE ->',mean_squared_error(y_true, y_pred, squared=False))"
   ]
  },
  {
   "cell_type": "code",
   "execution_count": 17,
   "metadata": {},
   "outputs": [
    {
     "name": "stdout",
     "output_type": "stream",
     "text": [
      "MSE -> 0.7083333333333334\n",
      "RMSE -> 0.8416254115301732\n"
     ]
    }
   ],
   "source": [
    "y_true = [[0.5, 1],[-1, 1],[7, -6]]\n",
    "y_pred = [[0, 2],[-1, 2],[8, -5]]\n",
    "\n",
    "print('MSE ->',mean_squared_error(y_true, y_pred))\n",
    "print('RMSE ->',mean_squared_error(y_true, y_pred, squared=False))"
   ]
  }
 ],
 "metadata": {
  "kernelspec": {
   "display_name": "Python 3.10.6 64-bit",
   "language": "python",
   "name": "python3"
  },
  "language_info": {
   "codemirror_mode": {
    "name": "ipython",
    "version": 3
   },
   "file_extension": ".py",
   "mimetype": "text/x-python",
   "name": "python",
   "nbconvert_exporter": "python",
   "pygments_lexer": "ipython3",
   "version": "3.10.6"
  },
  "orig_nbformat": 4,
  "vscode": {
   "interpreter": {
    "hash": "369f2c481f4da34e4445cda3fffd2e751bd1c4d706f27375911949ba6bb62e1c"
   }
  }
 },
 "nbformat": 4,
 "nbformat_minor": 2
}
