{
 "cells": [
  {
   "cell_type": "markdown",
   "metadata": {},
   "source": [
    "# Train Test Split\n",
    "## Introduction\n",
    "Train Test Split is a utility function that splits the Features (X) and Target (y) datasets to a reproducible split. This is useful for comparing different models and hyperparameters. The function takes in a dataset and a test size and returns the train and test datasets. The function also takes in a random state to ensure reproducibility."
   ]
  },
  {
   "cell_type": "markdown",
   "metadata": {},
   "source": [
    "## Use Case\n",
    "Train Test Split is useful to split the dataset into train and test datasets which can be used to train and test the model. Different models can be trained on the train dataset and the test dataset can be used to evaluate models. This is useful to compare different models and hyperparameters."
   ]
  },
  {
   "cell_type": "code",
   "execution_count": 112,
   "metadata": {},
   "outputs": [],
   "source": [
    "# importing required libraries\n",
    "import numpy as np\n",
    "import pandas as pd"
   ]
  },
  {
   "cell_type": "code",
   "execution_count": 113,
   "metadata": {},
   "outputs": [],
   "source": [
    "# shuffle datasets\n",
    "def _shuffle_train_test(X, y, random_state):\n",
    "    if random_state is not None:\n",
    "        np.random.seed(random_state)\n",
    "\n",
    "    X_len = len(X)\n",
    "    random_indices = np.arange(X_len)\n",
    "    np.random.shuffle(random_indices)\n",
    "\n",
    "    X_copy = X.copy()\n",
    "    y_copy = y.copy()\n",
    "\n",
    "    for i in range(X_len):\n",
    "        rand_index = random_indices[i]\n",
    "\n",
    "        # a simple hack to make X_copy and y_copy indexable\n",
    "        if type(X_copy) == pd.DataFrame:\n",
    "            X_copy.iloc[i] = X_copy.iloc[rand_index]\n",
    "            y_copy.iloc[i] = y_copy.iloc[rand_index]\n",
    "\n",
    "        else:  # supposing X_copy is a numpy array or python list or pd.Series\n",
    "            X_copy[i] = X[rand_index]\n",
    "            y_copy[i] = y[rand_index]\n",
    "\n",
    "    return X_copy, y_copy\n",
    "\n",
    "\n",
    "# get train and test data lengths\n",
    "def _get_train_test_len(X_len, train_size=None, test_size=None):\n",
    "    # if train_size and test_size are not given, then split the dataset into 75% train and 25% test\n",
    "    if train_size is None and test_size is None:\n",
    "        train_size = 0.75\n",
    "        test_size = 0.25\n",
    "\n",
    "    else:\n",
    "        # if train size is given, then calculate test size\n",
    "        if train_size is not None:\n",
    "            test_size = 1 - train_size\n",
    "\n",
    "        # if test size is given, then calculate train size\n",
    "        if test_size is not None:\n",
    "            train_size = 1 - test_size\n",
    "\n",
    "        # check if train_size is given and if it is valid\n",
    "        assert (\n",
    "            train_size is not None and train_size > 0 and train_size < 1\n",
    "        ), \"train_size must be between 0 and 1\"\n",
    "\n",
    "        # check if train_size is given and if it is valid\n",
    "        assert (\n",
    "            test_size is not None and test_size > 0 and test_size < 1\n",
    "        ), \"test_size must be between 0 and 1\"\n",
    "\n",
    "        # check if train_size and test_size are given and they sum upto 1\n",
    "        assert (\n",
    "            train_size is not None\n",
    "            and test_size is not None\n",
    "            and train_size + test_size == 1\n",
    "        ), \"train_size and test_size must sum upto 1\"\n",
    "\n",
    "    # gettting train and test lengths\n",
    "    train_len = int(X_len * train_size)\n",
    "    test_len = X_len - train_len\n",
    "\n",
    "    return train_len, test_len\n",
    "\n",
    "\n",
    "# train_test_split function\n",
    "def train_test_split(\n",
    "    X, y, train_size=None, test_size=None, random_state=None, shuffle=True\n",
    "):\n",
    "    X_len = len(X)\n",
    "    assert X_len == len(y), \"X and y must have same length\"\n",
    "\n",
    "    # shuffle datasets if shuffle is True (default)\n",
    "    if shuffle:\n",
    "        X, y = _shuffle_train_test(X, y, random_state)\n",
    "\n",
    "    # get train and test data lengths\n",
    "    train_len, test_len = _get_train_test_len(X_len, train_size, test_size)\n",
    "\n",
    "    # slicing X and y into train and test set\n",
    "    X_train = X[:train_len]\n",
    "    X_test = X[train_len:]\n",
    "    y_train = y[:train_len]\n",
    "    y_test = y[train_len:]\n",
    "\n",
    "    return X_train, X_test, y_train, y_test"
   ]
  },
  {
   "cell_type": "markdown",
   "metadata": {},
   "source": [
    "# Testing"
   ]
  },
  {
   "cell_type": "markdown",
   "metadata": {},
   "source": [
    "Using Python lists"
   ]
  },
  {
   "cell_type": "code",
   "execution_count": 118,
   "metadata": {},
   "outputs": [
    {
     "name": "stdout",
     "output_type": "stream",
     "text": [
      "Unshuffled\t [1, 2, 3, 4, 5, 6, 7] [8, 9, 10] [1, 2, 3, 4, 5, 6, 7] [8, 9, 10]\n",
      "Unshuffled\t [1, 2, 3, 4, 5, 6, 7] [8, 9, 10] [1, 2, 3, 4, 5, 6, 7] [8, 9, 10]\n",
      "Shuffled\t [1, 2, 9, 6, 4, 5, 8] [10, 7, 3] [1, 2, 9, 6, 4, 5, 8] [10, 7, 3]\n",
      "No Random Seed\t [10, 3, 1, 7, 9, 6, 4] [8, 2, 5] [10, 3, 1, 7, 9, 6, 4] [8, 2, 5]\n",
      "Random Seed 42\t [9, 2, 6, 1, 8, 3, 10] [5, 4, 7] [9, 2, 6, 1, 8, 3, 10] [5, 4, 7]\n",
      "Random Seed 42\t [9, 2, 6, 1, 8, 3, 10] [5, 4, 7] [9, 2, 6, 1, 8, 3, 10] [5, 4, 7]\n",
      "<class 'list'> <class 'list'> <class 'list'> <class 'list'>\n"
     ]
    }
   ],
   "source": [
    "X = [1, 2, 3, 4, 5, 6, 7, 8, 9, 10]\n",
    "y = [2, 4, 6, 8, 10, 12, 14, 16, 18, 20]\n",
    "\n",
    "# if shuffle is False, the order of X and y will be preserved\n",
    "X_train, X_test, y_train, y_test = train_test_split(X, X, test_size=0.3, random_state=None, shuffle=False)\n",
    "print('Unshuffled\\t', X_train, X_test, y_train, y_test)\n",
    "\n",
    "X_train, X_test, y_train, y_test = train_test_split(X, X, test_size=0.3, random_state=None, shuffle=False)\n",
    "print('Unshuffled\\t', X_train, X_test, y_train, y_test)\n",
    "\n",
    "X_train, X_test, y_train, y_test = train_test_split(X, X, test_size=0.3, random_state=None, shuffle=True)\n",
    "print('Shuffled\\t', X_train, X_test, y_train, y_test)\n",
    "\n",
    "X_train, X_test, y_train, y_test = train_test_split(X, X, test_size=0.3, random_state=None, shuffle=True)\n",
    "print('No Random Seed\\t', X_train, X_test, y_train, y_test)\n",
    "\n",
    "X_train, X_test, y_train, y_test = train_test_split(X, X, test_size=0.3, random_state=42, shuffle=True)\n",
    "print('Random Seed 42\\t', X_train, X_test, y_train, y_test)\n",
    "\n",
    "X_train, X_test, y_train, y_test = train_test_split(X, X, test_size=0.3, random_state=42, shuffle=True)\n",
    "print('Random Seed 42\\t', X_train, X_test, y_train, y_test)\n",
    "print(type(X_train), type(X_test), type(y_train), type(y_test))"
   ]
  },
  {
   "cell_type": "markdown",
   "metadata": {},
   "source": [
    "Using NumPy arrays"
   ]
  },
  {
   "cell_type": "code",
   "execution_count": 119,
   "metadata": {},
   "outputs": [
    {
     "name": "stdout",
     "output_type": "stream",
     "text": [
      "[53 87 24 83 22 75  2 88] [75  3] [106 174  48 166  44 150   4 176] [150   6]\n",
      "<class 'numpy.ndarray'> <class 'numpy.ndarray'> <class 'numpy.ndarray'> <class 'numpy.ndarray'>\n"
     ]
    }
   ],
   "source": [
    "X = np.random.randint(1, 100, 10)\n",
    "y = X * 2\n",
    "\n",
    "X_train, X_test, y_train, y_test = train_test_split(X, y, test_size=0.2, random_state=42, shuffle=True)\n",
    "print(X_train, X_test, y_train, y_test)\n",
    "print(type(X_train), type(X_test), type(y_train), type(y_test))"
   ]
  },
  {
   "cell_type": "markdown",
   "metadata": {},
   "source": [
    "Using Pandas DataFrames and Series"
   ]
  },
  {
   "cell_type": "code",
   "execution_count": 120,
   "metadata": {},
   "outputs": [],
   "source": [
    "# importing dataset\n",
    "dataset = pd.read_csv('./../../datasets/fish_market/Fish.csv')\n",
    "dataset.head()\n",
    "\n",
    "X = dataset.drop(['Species','Weight'], axis=1)\n",
    "y = dataset['Weight']"
   ]
  },
  {
   "cell_type": "code",
   "execution_count": 121,
   "metadata": {},
   "outputs": [
    {
     "name": "stdout",
     "output_type": "stream",
     "text": [
      "127 32 127 32\n",
      "<class 'pandas.core.frame.DataFrame'> <class 'pandas.core.frame.DataFrame'> <class 'pandas.core.series.Series'> <class 'pandas.core.series.Series'>\n"
     ]
    }
   ],
   "source": [
    "X_train, X_test, y_train, y_test = train_test_split(X, y, train_size=0.8, random_state=42)\n",
    "print(len(X_train), len(X_test), len(y_train), len(y_test))\n",
    "print(type(X_train), type(X_test), type(y_train), type(y_test))"
   ]
  }
 ],
 "metadata": {
  "kernelspec": {
   "display_name": "Python 3.10.6 64-bit",
   "language": "python",
   "name": "python3"
  },
  "language_info": {
   "codemirror_mode": {
    "name": "ipython",
    "version": 3
   },
   "file_extension": ".py",
   "mimetype": "text/x-python",
   "name": "python",
   "nbconvert_exporter": "python",
   "pygments_lexer": "ipython3",
   "version": "3.10.6"
  },
  "orig_nbformat": 4,
  "vscode": {
   "interpreter": {
    "hash": "369f2c481f4da34e4445cda3fffd2e751bd1c4d706f27375911949ba6bb62e1c"
   }
  }
 },
 "nbformat": 4,
 "nbformat_minor": 2
}
