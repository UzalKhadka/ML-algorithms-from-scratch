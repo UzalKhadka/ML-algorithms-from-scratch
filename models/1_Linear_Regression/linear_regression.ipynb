{
 "cells": [
  {
   "cell_type": "markdown",
   "metadata": {},
   "source": [
    "# Linear Regression using Least Squares method\n",
    "## Introduction\n",
    "Linear Regression is a statistical method for finding the relationship between a dependent variable with a given set of independent variables. The relationship is modelled using a linear equation. The coefficients of the linear equation are estimated using the training data. Once the model is trained, it can be used to predict the value of the dependent variable for a given set of independent variables.\n",
    "The least squares method is a statistical procedure for determining the best fit for a set of data points by minimizing the sum of offsets or residuals from the plotted curve. To predict the behavior of dependent variables, least squares regression is used. The least squares method is used to find the best fit line for a set of data points. The best fit line is the line that minimizes the sum of the squares of the vertical distances between the data points and the line."
   ]
  },
  {
   "cell_type": "markdown",
   "metadata": {},
   "source": [
    "Linear Regression Formula:\n",
    "$$y = mx + c$$\n",
    "where,\n",
    "* y is the dependent variable\n",
    "* x is the independent variable\n",
    "* m is the slope of the line\n",
    "\n",
    "For multiple independent variables, the equation becomes:\n",
    "$$y = m_1x_1 + m_2x_2 + m_3x_3 + ... + m_nx_n + c$$\n",
    "where,\n",
    "* y is the dependent variable\n",
    "* x1, x2, x3, ..., xn are the independent variables\n",
    "* m1, m2, m3, ..., mn are the coefficients of the independent variables\n",
    "* c is the constant"
   ]
  },
  {
   "cell_type": "markdown",
   "metadata": {},
   "source": [
    "This answer in the Stack Overflow forum explains the derivation of the formula for linear regression using least squares method. <https://stackoverflow.com/questions/32114215/how-to-calculate-the-intercept-using-numpy-linalg-lstsq>"
   ]
  },
  {
   "cell_type": "markdown",
   "metadata": {},
   "source": [
    "Using Least Square Method, we can solve for m and c."
   ]
  },
  {
   "cell_type": "markdown",
   "metadata": {},
   "source": [
    " The formula for m is:\n",
    "$$m = \\frac{\\sum_{i=1}^{n} (x_i - \\bar{x})(y_i - \\bar{y})}{\\sum_{i=1}^{n} (x_i - \\bar{x})^2}$$\n",
    "where,\n",
    "* $\\bar{x}$ is the mean of x\n",
    "* $\\bar{y}$ is the mean of y"
   ]
  },
  {
   "cell_type": "markdown",
   "metadata": {},
   "source": [
    "The formula for c is:\n",
    "$$c = \\bar{y} - m\\bar{x}$$"
   ]
  },
  {
   "cell_type": "markdown",
   "metadata": {},
   "source": [
    "In this notebook, we will use the Least Squares method to estimate the coefficients of the linear equation. We will use the Fish Species dataset to train the model and predict the value of the dependent variable i.e. weight of a fish for a given set of independent variables."
   ]
  },
  {
   "cell_type": "markdown",
   "metadata": {},
   "source": [
    "We can use the following performance metrics to evaluate the performance of a Linear Regression model:\n",
    "* Mean Squared Error (MSE)\n",
    "* Root Mean Squared Error (RMSE)\n",
    "* R-Squared Score (R2 Score)"
   ]
  },
  {
   "cell_type": "markdown",
   "metadata": {},
   "source": [
    "## Importing Libraries and Dataset"
   ]
  },
  {
   "cell_type": "code",
   "execution_count": 62,
   "metadata": {},
   "outputs": [],
   "source": [
    "# importing libraries\n",
    "import numpy as np\n",
    "import pandas as pd\n",
    "import matplotlib.pyplot as plt"
   ]
  },
  {
   "cell_type": "code",
   "execution_count": 63,
   "metadata": {},
   "outputs": [],
   "source": [
    "import sys\n",
    "sys.path.append('../../')\n",
    "\n",
    "# importing utilities\n",
    "from utilities.LabelEncoder import LabelEncoder\n",
    "from utilities.TrainTestSplit import train_test_split\n",
    "from utilities.MeanSquaredError import mean_squared_error\n",
    "from utilities.MeanAbsoluteError import mean_absolute_error\n",
    "from utilities.R2Score import r2_score"
   ]
  },
  {
   "cell_type": "code",
   "execution_count": 32,
   "metadata": {},
   "outputs": [
    {
     "data": {
      "text/html": [
       "<div>\n",
       "<style scoped>\n",
       "    .dataframe tbody tr th:only-of-type {\n",
       "        vertical-align: middle;\n",
       "    }\n",
       "\n",
       "    .dataframe tbody tr th {\n",
       "        vertical-align: top;\n",
       "    }\n",
       "\n",
       "    .dataframe thead th {\n",
       "        text-align: right;\n",
       "    }\n",
       "</style>\n",
       "<table border=\"1\" class=\"dataframe\">\n",
       "  <thead>\n",
       "    <tr style=\"text-align: right;\">\n",
       "      <th></th>\n",
       "      <th>Species</th>\n",
       "      <th>Weight</th>\n",
       "      <th>Length1</th>\n",
       "      <th>Length2</th>\n",
       "      <th>Length3</th>\n",
       "      <th>Height</th>\n",
       "      <th>Width</th>\n",
       "    </tr>\n",
       "  </thead>\n",
       "  <tbody>\n",
       "    <tr>\n",
       "      <th>0</th>\n",
       "      <td>Bream</td>\n",
       "      <td>242.0</td>\n",
       "      <td>23.2</td>\n",
       "      <td>25.4</td>\n",
       "      <td>30.0</td>\n",
       "      <td>11.5200</td>\n",
       "      <td>4.0200</td>\n",
       "    </tr>\n",
       "    <tr>\n",
       "      <th>1</th>\n",
       "      <td>Bream</td>\n",
       "      <td>290.0</td>\n",
       "      <td>24.0</td>\n",
       "      <td>26.3</td>\n",
       "      <td>31.2</td>\n",
       "      <td>12.4800</td>\n",
       "      <td>4.3056</td>\n",
       "    </tr>\n",
       "    <tr>\n",
       "      <th>2</th>\n",
       "      <td>Bream</td>\n",
       "      <td>340.0</td>\n",
       "      <td>23.9</td>\n",
       "      <td>26.5</td>\n",
       "      <td>31.1</td>\n",
       "      <td>12.3778</td>\n",
       "      <td>4.6961</td>\n",
       "    </tr>\n",
       "    <tr>\n",
       "      <th>3</th>\n",
       "      <td>Bream</td>\n",
       "      <td>363.0</td>\n",
       "      <td>26.3</td>\n",
       "      <td>29.0</td>\n",
       "      <td>33.5</td>\n",
       "      <td>12.7300</td>\n",
       "      <td>4.4555</td>\n",
       "    </tr>\n",
       "    <tr>\n",
       "      <th>4</th>\n",
       "      <td>Bream</td>\n",
       "      <td>430.0</td>\n",
       "      <td>26.5</td>\n",
       "      <td>29.0</td>\n",
       "      <td>34.0</td>\n",
       "      <td>12.4440</td>\n",
       "      <td>5.1340</td>\n",
       "    </tr>\n",
       "  </tbody>\n",
       "</table>\n",
       "</div>"
      ],
      "text/plain": [
       "  Species  Weight  Length1  Length2  Length3   Height   Width\n",
       "0   Bream   242.0     23.2     25.4     30.0  11.5200  4.0200\n",
       "1   Bream   290.0     24.0     26.3     31.2  12.4800  4.3056\n",
       "2   Bream   340.0     23.9     26.5     31.1  12.3778  4.6961\n",
       "3   Bream   363.0     26.3     29.0     33.5  12.7300  4.4555\n",
       "4   Bream   430.0     26.5     29.0     34.0  12.4440  5.1340"
      ]
     },
     "execution_count": 32,
     "metadata": {},
     "output_type": "execute_result"
    }
   ],
   "source": [
    "# importing dataset\n",
    "dataset_org = pd.read_csv('./../../datasets/fish_market/Fish.csv')\n",
    "dataset_org.head()"
   ]
  },
  {
   "cell_type": "code",
   "execution_count": 33,
   "metadata": {},
   "outputs": [
    {
     "name": "stdout",
     "output_type": "stream",
     "text": [
      "<class 'pandas.core.frame.DataFrame'>\n",
      "RangeIndex: 159 entries, 0 to 158\n",
      "Data columns (total 7 columns):\n",
      " #   Column   Non-Null Count  Dtype  \n",
      "---  ------   --------------  -----  \n",
      " 0   Species  159 non-null    object \n",
      " 1   Weight   159 non-null    float64\n",
      " 2   Length1  159 non-null    float64\n",
      " 3   Length2  159 non-null    float64\n",
      " 4   Length3  159 non-null    float64\n",
      " 5   Height   159 non-null    float64\n",
      " 6   Width    159 non-null    float64\n",
      "dtypes: float64(6), object(1)\n",
      "memory usage: 8.8+ KB\n"
     ]
    }
   ],
   "source": [
    "dataset = dataset_org.copy()\n",
    "dataset.info()"
   ]
  },
  {
   "cell_type": "code",
   "execution_count": 5,
   "metadata": {},
   "outputs": [
    {
     "data": {
      "text/plain": [
       "Perch        56\n",
       "Bream        35\n",
       "Roach        20\n",
       "Pike         17\n",
       "Smelt        14\n",
       "Parkki       11\n",
       "Whitefish     6\n",
       "Name: Species, dtype: int64"
      ]
     },
     "execution_count": 5,
     "metadata": {},
     "output_type": "execute_result"
    }
   ],
   "source": [
    "# checking the unique values in the species columns\n",
    "dataset['Species'].value_counts()"
   ]
  },
  {
   "cell_type": "markdown",
   "metadata": {},
   "source": [
    "We will Label encode the Species column as it is a categorical column with 7 unique values. Since the unique values are unbalanced, we might see some accuracy issues later on."
   ]
  },
  {
   "cell_type": "code",
   "execution_count": 6,
   "metadata": {},
   "outputs": [
    {
     "data": {
      "text/plain": [
       "array([0, 0, 0, 0, 0, 0, 0, 0, 0, 0, 0, 0, 0, 0, 0, 0, 0, 0, 0, 0, 0, 0,\n",
       "       0, 0, 0, 0, 0, 0, 0, 0, 0, 0, 0, 0, 0, 4, 4, 4, 4, 4, 4, 4, 4, 4,\n",
       "       4, 4, 4, 4, 4, 4, 4, 4, 4, 4, 4, 6, 6, 6, 6, 6, 6, 1, 1, 1, 1, 1,\n",
       "       1, 1, 1, 1, 1, 1, 2, 2, 2, 2, 2, 2, 2, 2, 2, 2, 2, 2, 2, 2, 2, 2,\n",
       "       2, 2, 2, 2, 2, 2, 2, 2, 2, 2, 2, 2, 2, 2, 2, 2, 2, 2, 2, 2, 2, 2,\n",
       "       2, 2, 2, 2, 2, 2, 2, 2, 2, 2, 2, 2, 2, 2, 2, 2, 2, 2, 3, 3, 3, 3,\n",
       "       3, 3, 3, 3, 3, 3, 3, 3, 3, 3, 3, 3, 3, 5, 5, 5, 5, 5, 5, 5, 5, 5,\n",
       "       5, 5, 5, 5, 5])"
      ]
     },
     "execution_count": 6,
     "metadata": {},
     "output_type": "execute_result"
    }
   ],
   "source": [
    "le = LabelEncoder()\n",
    "encoded_species =  le.fit_transform(dataset['Species'])\n",
    "encoded_species"
   ]
  },
  {
   "cell_type": "code",
   "execution_count": 7,
   "metadata": {},
   "outputs": [],
   "source": [
    "# creating a new column in the dataset for the encoded species i.e. containing numerical values\n",
    "dataset['Species'] = encoded_species"
   ]
  },
  {
   "cell_type": "markdown",
   "metadata": {},
   "source": [
    "Now we have encoded the Species column using LabelEncoder."
   ]
  },
  {
   "cell_type": "code",
   "execution_count": 8,
   "metadata": {},
   "outputs": [
    {
     "data": {
      "text/html": [
       "<div>\n",
       "<style scoped>\n",
       "    .dataframe tbody tr th:only-of-type {\n",
       "        vertical-align: middle;\n",
       "    }\n",
       "\n",
       "    .dataframe tbody tr th {\n",
       "        vertical-align: top;\n",
       "    }\n",
       "\n",
       "    .dataframe thead th {\n",
       "        text-align: right;\n",
       "    }\n",
       "</style>\n",
       "<table border=\"1\" class=\"dataframe\">\n",
       "  <thead>\n",
       "    <tr style=\"text-align: right;\">\n",
       "      <th></th>\n",
       "      <th>Species</th>\n",
       "      <th>Weight</th>\n",
       "      <th>Length1</th>\n",
       "      <th>Length2</th>\n",
       "      <th>Length3</th>\n",
       "      <th>Height</th>\n",
       "      <th>Width</th>\n",
       "    </tr>\n",
       "  </thead>\n",
       "  <tbody>\n",
       "    <tr>\n",
       "      <th>0</th>\n",
       "      <td>0</td>\n",
       "      <td>242.0</td>\n",
       "      <td>23.2</td>\n",
       "      <td>25.4</td>\n",
       "      <td>30.0</td>\n",
       "      <td>11.5200</td>\n",
       "      <td>4.0200</td>\n",
       "    </tr>\n",
       "    <tr>\n",
       "      <th>1</th>\n",
       "      <td>0</td>\n",
       "      <td>290.0</td>\n",
       "      <td>24.0</td>\n",
       "      <td>26.3</td>\n",
       "      <td>31.2</td>\n",
       "      <td>12.4800</td>\n",
       "      <td>4.3056</td>\n",
       "    </tr>\n",
       "    <tr>\n",
       "      <th>2</th>\n",
       "      <td>0</td>\n",
       "      <td>340.0</td>\n",
       "      <td>23.9</td>\n",
       "      <td>26.5</td>\n",
       "      <td>31.1</td>\n",
       "      <td>12.3778</td>\n",
       "      <td>4.6961</td>\n",
       "    </tr>\n",
       "    <tr>\n",
       "      <th>3</th>\n",
       "      <td>0</td>\n",
       "      <td>363.0</td>\n",
       "      <td>26.3</td>\n",
       "      <td>29.0</td>\n",
       "      <td>33.5</td>\n",
       "      <td>12.7300</td>\n",
       "      <td>4.4555</td>\n",
       "    </tr>\n",
       "    <tr>\n",
       "      <th>4</th>\n",
       "      <td>0</td>\n",
       "      <td>430.0</td>\n",
       "      <td>26.5</td>\n",
       "      <td>29.0</td>\n",
       "      <td>34.0</td>\n",
       "      <td>12.4440</td>\n",
       "      <td>5.1340</td>\n",
       "    </tr>\n",
       "  </tbody>\n",
       "</table>\n",
       "</div>"
      ],
      "text/plain": [
       "   Species  Weight  Length1  Length2  Length3   Height   Width\n",
       "0        0   242.0     23.2     25.4     30.0  11.5200  4.0200\n",
       "1        0   290.0     24.0     26.3     31.2  12.4800  4.3056\n",
       "2        0   340.0     23.9     26.5     31.1  12.3778  4.6961\n",
       "3        0   363.0     26.3     29.0     33.5  12.7300  4.4555\n",
       "4        0   430.0     26.5     29.0     34.0  12.4440  5.1340"
      ]
     },
     "execution_count": 8,
     "metadata": {},
     "output_type": "execute_result"
    }
   ],
   "source": [
    "# getting the top 5 rows of the dataset\n",
    "dataset.head()"
   ]
  },
  {
   "cell_type": "code",
   "execution_count": 9,
   "metadata": {},
   "outputs": [],
   "source": [
    "# separating the features (X as it is a matrix) and the target (y as it is a vector)\n",
    "# we normally represent a matrix as X (capital X) and a vector as y (small y)c\n",
    "X = dataset.drop('Weight', axis=1)\n",
    "y = dataset['Weight']"
   ]
  },
  {
   "cell_type": "code",
   "execution_count": 10,
   "metadata": {},
   "outputs": [],
   "source": [
    "# splitting the dataset into training and testing sets\n",
    "X_train, X_test, y_train, y_test = train_test_split(X, y, test_size=0.2, random_state=42)"
   ]
  },
  {
   "cell_type": "markdown",
   "metadata": {},
   "source": [
    "## Actual Linear Regression Model"
   ]
  },
  {
   "cell_type": "code",
   "execution_count": 11,
   "metadata": {},
   "outputs": [],
   "source": [
    "# Simple Linear Regression Model using Least Squares Method\n",
    "class LinearRegression:\n",
    "    def __init__(self, fit_intercept=True, copy_X=True, n_jobs=None):\n",
    "        self.coef_ = None  # coefficients i.e. m1, m2, m3, ... mn\n",
    "        self.intercept_ = None  # intercept i.e. c\n",
    "        self.n_features_in_ = None  # number of features\n",
    "        self.feature_names_in_ = None  # names of features if available\n",
    "        self.res_ = None  # sum of squared errors i.e. residuals\n",
    "\n",
    "    # get the feature names if available (accepts DataFrame, Series, List, Numpy Array) else returns None\n",
    "    def _get_feature_names(self, X):\n",
    "        if type(X) == pd.DataFrame:\n",
    "            return X.columns\n",
    "        elif type(X) == pd.Series:\n",
    "            return X.name\n",
    "        elif type(X) == np.ndarray:\n",
    "            return np.arange(X.shape[1])\n",
    "        elif type(X) == list:\n",
    "            return np.arange(len(X))\n",
    "        else:\n",
    "            return None\n",
    "\n",
    "    def fit(self, X, y):\n",
    "        # getting the number of features and the feature names\n",
    "        self.n_features_in_ = X.shape[1]\n",
    "        self.feature_names_in_ = self._get_feature_names(X)\n",
    "\n",
    "        # we use np.linalg.lstsq to find the coefficients and the y-intercept\n",
    "        X = np.array(X)  # converting to numpy array\n",
    "        X = np.append(\n",
    "            X, np.ones(len(X), dtype=int).reshape(-1, 1), axis=1\n",
    "        )  # adding an extra row of ones\n",
    "\n",
    "        # finding the coefficients and the y-intercept\n",
    "        coef = np.linalg.inv(X.T.dot(X)).dot(X.T).dot(y)\n",
    "        self.coef_ = coef[:-1]\n",
    "        self.intercept_ = coef[-1]\n",
    "        self.res_ = np.sum((y - X.dot(coef)) ** 2)\n",
    "\n",
    "        return self\n",
    "\n",
    "    # predicting the values Y = m1X1 + m2X2 + m3X3 + ... + mnXn + c\n",
    "    def predict(self, X):\n",
    "        X = np.array(X)\n",
    "        X = np.append(\n",
    "            X, np.ones(len(X), dtype=int).reshape(-1, 1), axis=1\n",
    "        )  # adding an extra row of ones to get the y-intercept\n",
    "\n",
    "        return X.dot(np.append(self.coef_, self.intercept_))\n",
    "\n",
    "    # R2 score # coefficient of determination # r2 = 1 - (residuals / total sum of squares)\n",
    "    def score(self, X, y):\n",
    "        # predicting the values first\n",
    "        y_pred = self.predict(X)\n",
    "\n",
    "        # calculating the residuals and total sum of squares\n",
    "        SSres = np.sum((y - y_pred) ** 2)\n",
    "        SStot = np.sum((y - np.mean(y)) ** 2)\n",
    "\n",
    "        # applying the formula\n",
    "        r2_score = 1 - SSres / SStot\n",
    "\n",
    "        return r2_score\n",
    "    \n",
    "    # get parameters\n",
    "    def get_params(self):\n",
    "        return {\n",
    "            'coef_': self.coef_,\n",
    "            'intercept_': self.intercept_,\n",
    "            'n_features_in_': self.n_features_in_,\n",
    "            'feature_names_in_': self.feature_names_in_,\n",
    "            'res_': self.res_\n",
    "        }\n",
    "    \n",
    "    # set parameters\n",
    "    def set_params(self, **params):\n",
    "        for key, value in params.items():\n",
    "            setattr(self, key, value)\n",
    "\n",
    "        return self"
   ]
  },
  {
   "cell_type": "markdown",
   "metadata": {},
   "source": [
    "## Model Implementation\n",
    "Now, we apply Linear Regression on the dataset."
   ]
  },
  {
   "cell_type": "code",
   "execution_count": 17,
   "metadata": {},
   "outputs": [
    {
     "data": {
      "text/plain": [
       "{'coef_': array([ 43.60261349,  45.1399315 , -19.05174841,  -4.66721214,\n",
       "         33.0267209 ,  46.85489377]),\n",
       " 'intercept_': -687.014485000826,\n",
       " 'n_features_in_': 6,\n",
       " 'feature_names_in_': Index(['Species', 'Length1', 'Length2', 'Length3', 'Height', 'Width'], dtype='object'),\n",
       " 'res_': 2001227.9360694597}"
      ]
     },
     "execution_count": 17,
     "metadata": {},
     "output_type": "execute_result"
    }
   ],
   "source": [
    "# creating an object of the LinearRegression class\n",
    "lin_reg = LinearRegression()\n",
    "\n",
    "# fitting the model\n",
    "lin_reg.fit(X_train, y_train)\n",
    "\n",
    "# getting the parameters of the model\n",
    "lin_reg.get_params() # only works if the model has been fitted else everything will be None"
   ]
  },
  {
   "cell_type": "markdown",
   "metadata": {},
   "source": [
    "## Model Evaluation"
   ]
  },
  {
   "cell_type": "code",
   "execution_count": 24,
   "metadata": {},
   "outputs": [
    {
     "name": "stdout",
     "output_type": "stream",
     "text": [
      "Actual: 7.0 \t Predicted: -158.28\n",
      "Actual: 430.0 \t Predicted: 588.47\n",
      "Actual: 250.0 \t Predicted: 342.42\n",
      "Actual: 1000.0 \t Predicted: 968.04\n",
      "Actual: 180.0 \t Predicted: 359.44\n",
      "Actual: 685.0 \t Predicted: 738.51\n",
      "Actual: 12.2 \t Predicted: -100.85\n",
      "Actual: 500.0 \t Predicted: 717.58\n",
      "Actual: 130.0 \t Predicted: 135.6\n",
      "Actual: 6.7 \t Predicted: -179.8\n"
     ]
    }
   ],
   "source": [
    "# predicting the values for the test set\n",
    "y_pred = lin_reg.predict(X_test)\n",
    "\n",
    "# comparing the top 10 actual and predicted values\n",
    "for i in range(10):\n",
    "    print(f'Actual: {y_test.iloc[i]} \\t Predicted: {y_pred[i].round(2)}')"
   ]
  },
  {
   "cell_type": "markdown",
   "metadata": {},
   "source": [
    "## Analysis on the result\n",
    "As we can see some predicted values are in negatives. THe negetive predictions are due to the actual weights bein around 5-20 (guessing roughly). This is mainly because the dataset contains several fishes (i.e. several species of fish), and the y (weight in our dataset) is skewed towards positive. This condition is also called positively skewed. It occurs when the mean is greater than the median of a variable. Plainly speaking, there are more values above the median value. We can check our hypothesis by looking at the mean and median of the dataset."
   ]
  },
  {
   "cell_type": "code",
   "execution_count": 27,
   "metadata": {},
   "outputs": [
    {
     "name": "stdout",
     "output_type": "stream",
     "text": [
      "weight_mean:\t 398.3264150943396\n",
      "weight_median:\t 273.0\n"
     ]
    }
   ],
   "source": [
    "print('weight_mean:\\t', np.mean(y))\n",
    "print('weight_median:\\t', np.median(y))"
   ]
  },
  {
   "cell_type": "markdown",
   "metadata": {},
   "source": [
    "Our hypothesis was true, and the dataset is positively skewed. We can look at the distribution of the dataset to further solidify our hypothesis."
   ]
  },
  {
   "cell_type": "code",
   "execution_count": 40,
   "metadata": {},
   "outputs": [
    {
     "data": {
      "image/png": "[encoded data removed]",
      "text/plain": [
       "<Figure size 640x480 with 1 Axes>"
      ]
     },
     "metadata": {},
     "output_type": "display_data"
    }
   ],
   "source": [
    "# plotting a bar graph to compare the distribution of weight among the species\n",
    "plt.barh(dataset_org['Species'], dataset_org['Weight'])\n",
    "plt.axvline(np.mean(y), color='red', label='mean')\n",
    "plt.axvline(np.median(y), color='blue', label='median')\n",
    "plt.legend()\n",
    "plt.title('Weight vs Species')\n",
    "plt.xlabel('Weight')\n",
    "plt.ylabel('Species')\n",
    "plt.show()"
   ]
  },
  {
   "cell_type": "markdown",
   "metadata": {},
   "source": [
    "From the above graph, we can see that 4 out of 7 species of fish have the weight more than double the median and more than triple the mean. This is the reason why we are getting negative predictions. One simple solution to fix this would be to remove any outlier species, but that would remove a whole chunk of the dataset of that species, and this solution is quite controversal too. One logical and most preferred solution would be using a log transformation on the y variable. But that is not the scope of this notebook. We will leave it for another time. Let's jump back to the current notebook."
   ]
  },
  {
   "cell_type": "markdown",
   "metadata": {},
   "source": [
    "## Further Model Evaluation\n",
    "We will use the following metrics to evaluate the performance of the model:\n",
    "1. Mean Absolute Error (MAE)\n",
    "2. Root Mean Squared Error (RMSE)\n",
    "3. R2 Score"
   ]
  },
  {
   "cell_type": "code",
   "execution_count": 60,
   "metadata": {},
   "outputs": [
    {
     "name": "stdout",
     "output_type": "stream",
     "text": [
      "Mean Absolute Error:\t\t 0.13114850000000003\n",
      "Root Mean Squared Error:\t 0.18552281614399888\n",
      "R2 Score:\t\t\t 0.9915349176550484\n"
     ]
    }
   ],
   "source": [
    "mae = mean_absolute_error(y_test, y_pred)\n",
    "rmse = mean_squared_error(y_test, y_pred, squared=False)\n",
    "r2 = r2_score(y_test, y_pred)\n",
    "\n",
    "print('Mean Absolute Error:\\t\\t', mae)\n",
    "print('Root Mean Squared Error:\\t', rmse)\n",
    "print('R2 Score:\\t\\t\\t', r2)"
   ]
  },
  {
   "cell_type": "markdown",
   "metadata": {},
   "source": [
    "We can see that scores are not that great, but not that terrible either. We can try to improve the model by using a different algorithm. We will try to use a different algorithm in the next notebook. One way to improve the model would be to use an optimization technique like Gradient Descent. We will try to use that in the next notebook."
   ]
  },
  {
   "cell_type": "markdown",
   "metadata": {},
   "source": [
    "## Apply Model on another dataset"
   ]
  },
  {
   "cell_type": "code",
   "execution_count": 47,
   "metadata": {},
   "outputs": [],
   "source": [
    "# testing the set parameters function on a different dataset and with a different model\n",
    "df = pd.read_csv('./../../datasets/student_grade/Student_Grade.csv')\n",
    "X = df['Study Time In Minutes']\n",
    "y = df['Credit Grade']\n",
    "\n",
    "X_train, X_test, y_train, y_test = train_test_split(X, y, test_size=0.2, random_state=42)"
   ]
  },
  {
   "cell_type": "code",
   "execution_count": 49,
   "metadata": {},
   "outputs": [
    {
     "data": {
      "text/plain": [
       "{'coef_': None,\n",
       " 'intercept_': None,\n",
       " 'n_features_in_': None,\n",
       " 'feature_names_in_': None,\n",
       " 'res_': None}"
      ]
     },
     "execution_count": 49,
     "metadata": {},
     "output_type": "execute_result"
    }
   ],
   "source": [
    "lin_reg = LinearRegression() # creating an object of the LinearRegression class\n",
    "lin_reg.get_params() # getting the parameters of the model before fitting it"
   ]
  },
  {
   "cell_type": "code",
   "execution_count": 50,
   "metadata": {},
   "outputs": [
    {
     "data": {
      "text/plain": [
       "{'coef_': [0.01986],\n",
       " 'intercept_': 1.8,\n",
       " 'n_features_in_': None,\n",
       " 'feature_names_in_': None,\n",
       " 'res_': None}"
      ]
     },
     "execution_count": 50,
     "metadata": {},
     "output_type": "execute_result"
    }
   ],
   "source": [
    "# now we will set the parameters of the model taken from a previously fitted model\n",
    "lin_reg.set_params(coef_=[0.01986], intercept_=1.8)\n",
    "lin_reg.get_params() # getting the parameters of the model after setting them"
   ]
  },
  {
   "cell_type": "markdown",
   "metadata": {},
   "source": [
    "## Model Evaluation II"
   ]
  },
  {
   "cell_type": "code",
   "execution_count": 54,
   "metadata": {},
   "outputs": [
    {
     "name": "stdout",
     "output_type": "stream",
     "text": [
      "Actual: 8.2 \t Predicted: 7.96\n",
      "Actual: 5.5 \t Predicted: 5.57\n",
      "Actual: 8.96 \t Predicted: 8.73\n",
      "Actual: 8.18 \t Predicted: 8.0\n",
      "Actual: 9.15 \t Predicted: 8.89\n",
      "Actual: 4.2 \t Predicted: 4.3\n",
      "Actual: 4.72 \t Predicted: 4.7\n",
      "Actual: 4.4 \t Predicted: 4.46\n",
      "Actual: 5.08 \t Predicted: 5.12\n",
      "Actual: 7.98 \t Predicted: 7.84\n"
     ]
    }
   ],
   "source": [
    "y_pred = lin_reg.predict(np.array(X_test).reshape(-1, 1)) # predicting the values for the test set\n",
    "\n",
    "# comparing the top 10 actual and predicted values\n",
    "for i in range(10):\n",
    "    print(f'Actual: {y_test.iloc[i]} \\t Predicted: {y_pred[i].round(2)}')"
   ]
  },
  {
   "cell_type": "markdown",
   "metadata": {},
   "source": [
    "Looking at the results, we can see that the model predicted pretty good grades. Even the parameters to the model were hard coded by us, those params were taken out from a fittted model for this dataset.\n",
    "We can check the performance of the model by using the previously used functions."
   ]
  },
  {
   "cell_type": "code",
   "execution_count": 61,
   "metadata": {},
   "outputs": [
    {
     "name": "stdout",
     "output_type": "stream",
     "text": [
      "Mean Absolute Error:\t\t 0.13114850000000003\n",
      "Root Mean Squared Error:\t 0.18552281614399888\n",
      "R2 Score:\t\t\t 0.9915349176550484\n"
     ]
    }
   ],
   "source": [
    "mae = mean_absolute_error(y_test, y_pred)\n",
    "rmse = mean_squared_error(y_test, y_pred, squared=False)\n",
    "r2 = r2_score(y_test, y_pred)\n",
    "\n",
    "print('Mean Absolute Error:\\t\\t', mae)\n",
    "print('Root Mean Squared Error:\\t', rmse)\n",
    "print('R2 Score:\\t\\t\\t', r2)"
   ]
  },
  {
   "cell_type": "markdown",
   "metadata": {},
   "source": [
    "99.9% accuracy is a great score. Plus, the MAE and RMSE are also very low. This means that the model is performing very well."
   ]
  },
  {
   "cell_type": "markdown",
   "metadata": {},
   "source": [
    "## Conclusion\n",
    "In this, notebook, we have created a Linear Regression Model using Least Square method from scratch. Linear Regression are widely used for linear datasets, and as we can see, they are very easy to implement. We can also use the same method to implement Logistic Regression, which we will cover it in upcoming notebooks."
   ]
  }
 ],
 "metadata": {
  "kernelspec": {
   "display_name": "Python 3.10.6 64-bit",
   "language": "python",
   "name": "python3"
  },
  "language_info": {
   "codemirror_mode": {
    "name": "ipython",
    "version": 3
   },
   "file_extension": ".py",
   "mimetype": "text/x-python",
   "name": "python",
   "nbconvert_exporter": "python",
   "pygments_lexer": "ipython3",
   "version": "3.10.6"
  },
  "orig_nbformat": 4,
  "vscode": {
   "interpreter": {
    "hash": "369f2c481f4da34e4445cda3fffd2e751bd1c4d706f27375911949ba6bb62e1c"
   }
  }
 },
 "nbformat": 4,
 "nbformat_minor": 2
}
